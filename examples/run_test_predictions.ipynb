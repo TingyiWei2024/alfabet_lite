{
 "cells": [
  {
   "cell_type": "code",
   "execution_count": 1,
   "metadata": {},
   "outputs": [
    {
     "name": "stderr",
     "output_type": "stream",
     "text": [
      "2024-10-16 18:38:18.575776: I metal_plugin/src/device/metal_device.cc:1154] Metal device set to: Apple M1 Pro\n",
      "2024-10-16 18:38:18.575805: I metal_plugin/src/device/metal_device.cc:296] systemMemory: 16.00 GB\n",
      "2024-10-16 18:38:18.575810: I metal_plugin/src/device/metal_device.cc:313] maxCacheSize: 5.33 GB\n",
      "2024-10-16 18:38:18.575867: I tensorflow/core/common_runtime/pluggable_device/pluggable_device_factory.cc:306] Could not identify NUMA node of platform GPU ID 0, defaulting to 0. Your kernel may not have been built with NUMA support.\n",
      "2024-10-16 18:38:18.575901: I tensorflow/core/common_runtime/pluggable_device/pluggable_device_factory.cc:272] Created TensorFlow device (/job:localhost/replica:0/task:0/device:GPU:0 with 0 MB memory) -> physical PluggableDevice (device: 0, name: METAL, pci bus id: <undefined>)\n"
     ]
    },
    {
     "name": "stdout",
     "output_type": "stream",
     "text": [
      "WARNING:tensorflow:No training configuration found in save file, so the model was *not* compiled. Compile it manually.\n"
     ]
    },
    {
     "name": "stderr",
     "output_type": "stream",
     "text": [
      "WARNING:tensorflow:No training configuration found in save file, so the model was *not* compiled. Compile it manually.\n"
     ]
    }
   ],
   "source": [
    "import pandas as pd\n",
    "from alfabet_lite import model"
   ]
  },
  {
   "cell_type": "markdown",
   "metadata": {},
   "source": [
    "## Load the test dataset"
   ]
  },
  {
   "cell_type": "code",
   "execution_count": 2,
   "metadata": {},
   "outputs": [
    {
     "data": {
      "text/html": [
       "<div>\n",
       "<style scoped>\n",
       "    .dataframe tbody tr th:only-of-type {\n",
       "        vertical-align: middle;\n",
       "    }\n",
       "\n",
       "    .dataframe tbody tr th {\n",
       "        vertical-align: top;\n",
       "    }\n",
       "\n",
       "    .dataframe thead th {\n",
       "        text-align: right;\n",
       "    }\n",
       "</style>\n",
       "<table border=\"1\" class=\"dataframe\">\n",
       "  <thead>\n",
       "    <tr style=\"text-align: right;\">\n",
       "      <th></th>\n",
       "      <th>molecule</th>\n",
       "      <th>bond_index</th>\n",
       "      <th>fragment1</th>\n",
       "      <th>fragment2</th>\n",
       "      <th>bde</th>\n",
       "      <th>bond_type</th>\n",
       "      <th>delta_stereo</th>\n",
       "    </tr>\n",
       "  </thead>\n",
       "  <tbody>\n",
       "    <tr>\n",
       "      <th>0</th>\n",
       "      <td>C#C/C(C)=C/CNCC</td>\n",
       "      <td>1</td>\n",
       "      <td>[C]#C</td>\n",
       "      <td>C[C]=CCNCC</td>\n",
       "      <td>132.918956</td>\n",
       "      <td>C-C</td>\n",
       "      <td>0.0</td>\n",
       "    </tr>\n",
       "    <tr>\n",
       "      <th>1</th>\n",
       "      <td>C#C/C(C)=C/CNCC</td>\n",
       "      <td>2</td>\n",
       "      <td>C#C/[C]=C/CNCC</td>\n",
       "      <td>[CH3]</td>\n",
       "      <td>90.545156</td>\n",
       "      <td>C-C</td>\n",
       "      <td>0.0</td>\n",
       "    </tr>\n",
       "    <tr>\n",
       "      <th>2</th>\n",
       "      <td>C#C/C(C)=C/CNCC</td>\n",
       "      <td>4</td>\n",
       "      <td>[CH2]NCC</td>\n",
       "      <td>[CH]=C(C)C#C</td>\n",
       "      <td>92.585188</td>\n",
       "      <td>C-C</td>\n",
       "      <td>0.0</td>\n",
       "    </tr>\n",
       "    <tr>\n",
       "      <th>3</th>\n",
       "      <td>C#C/C(C)=C/CNCC</td>\n",
       "      <td>5</td>\n",
       "      <td>C#C/C(C)=C/[CH2]</td>\n",
       "      <td>CC[NH]</td>\n",
       "      <td>62.904012</td>\n",
       "      <td>C-N</td>\n",
       "      <td>0.0</td>\n",
       "    </tr>\n",
       "    <tr>\n",
       "      <th>4</th>\n",
       "      <td>C#C/C(C)=C/CNCC</td>\n",
       "      <td>6</td>\n",
       "      <td>C#C/C(C)=C/C[NH]</td>\n",
       "      <td>[CH2]C</td>\n",
       "      <td>83.992707</td>\n",
       "      <td>C-N</td>\n",
       "      <td>0.0</td>\n",
       "    </tr>\n",
       "  </tbody>\n",
       "</table>\n",
       "</div>"
      ],
      "text/plain": [
       "          molecule  bond_index         fragment1     fragment2         bde  \\\n",
       "0  C#C/C(C)=C/CNCC           1             [C]#C    C[C]=CCNCC  132.918956   \n",
       "1  C#C/C(C)=C/CNCC           2    C#C/[C]=C/CNCC         [CH3]   90.545156   \n",
       "2  C#C/C(C)=C/CNCC           4          [CH2]NCC  [CH]=C(C)C#C   92.585188   \n",
       "3  C#C/C(C)=C/CNCC           5  C#C/C(C)=C/[CH2]        CC[NH]   62.904012   \n",
       "4  C#C/C(C)=C/CNCC           6  C#C/C(C)=C/C[NH]        [CH2]C   83.992707   \n",
       "\n",
       "  bond_type  delta_stereo  \n",
       "0       C-C           0.0  \n",
       "1       C-C           0.0  \n",
       "2       C-C           0.0  \n",
       "3       C-N           0.0  \n",
       "4       C-N           0.0  "
      ]
     },
     "execution_count": 2,
     "metadata": {},
     "output_type": "execute_result"
    }
   ],
   "source": [
    "test_data = pd.read_csv('test_data.csv.gz')\n",
    "test_data.head()"
   ]
  },
  {
   "cell_type": "markdown",
   "metadata": {},
   "source": [
    "In this test dataset and in the alfabet predictions, `bond_index` corresponds to the bond index assinged by RDKit for a molecule with explicit hydrogens"
   ]
  },
  {
   "cell_type": "code",
   "execution_count": 3,
   "metadata": {},
   "outputs": [
    {
     "name": "stdout",
     "output_type": "stream",
     "text": [
      "C-N\n"
     ]
    }
   ],
   "source": [
    "from rdkit import Chem\n",
    "molH = Chem.AddHs(Chem.MolFromSmiles('C#C/C(C)=C/CNCC'))\n",
    "bond = molH.GetBondWithIdx(5)\n",
    "print(f'{bond.GetBeginAtom().GetSymbol()}-{bond.GetEndAtom().GetSymbol()}')"
   ]
  },
  {
   "cell_type": "markdown",
   "metadata": {},
   "source": [
    "Get a list of unique molecules in the test dataset"
   ]
  },
  {
   "cell_type": "code",
   "execution_count": 4,
   "metadata": {},
   "outputs": [
    {
     "data": {
      "text/plain": [
       "array(['C#C/C(C)=C/CNCC', 'C#C/C=C/C(=O)O', 'C#C/C=C/C=C/C=C/C',\n",
       "       'C#C/C=C/COCCCC', 'C#CC#CCCO'], dtype=object)"
      ]
     },
     "execution_count": 4,
     "metadata": {},
     "output_type": "execute_result"
    }
   ],
   "source": [
    "test_molecules = test_data.molecule.unique()\n",
    "test_molecules[:5]"
   ]
  },
  {
   "cell_type": "markdown",
   "metadata": {},
   "source": [
    "`model.predict(...)` expects a list-like object of SMILES strings. The longest part of the calculation is breaking the bonds in the molecule and generating radical SMILES, which uses the `joblib` library to parallelize these calculations across multiple cores"
   ]
  },
  {
   "cell_type": "code",
   "execution_count": 5,
   "metadata": {},
   "outputs": [
    {
     "name": "stderr",
     "output_type": "stream",
     "text": [
      "WARNING:root:Molecule CC(C)N1OC12CCCC2 has undefined stereochemistry\n",
      "WARNING:root:Molecule CC(O)CO has undefined stereochemistry\n",
      "WARNING:root:Molecule CC1(C)CC[C@@H]2CN21 has undefined stereochemistry\n",
      "WARNING:root:Molecule CC1C=CCC1 has undefined stereochemistry\n",
      "WARNING:root:Molecule CC1CCC2CC1C2(C)C has undefined stereochemistry\n",
      "WARNING:root:Molecule CCC(C)O has undefined stereochemistry\n",
      "WARNING:root:Molecule CCC(C)c1ccccc1 has undefined stereochemistry\n",
      "WARNING:root:Molecule CC[C@@H]1CN1C has undefined stereochemistry\n",
      "WARNING:root:Molecule CN1C[C@@H]1C1=NCCO1 has undefined stereochemistry\n",
      "WARNING:root:Molecule CN1NC1(C)C has undefined stereochemistry\n",
      "WARNING:root:Molecule NC1[C@H](O)C=C[C@@H]1O has undefined stereochemistry\n",
      "2024-10-16 18:38:31.678312: I tensorflow/core/grappler/optimizers/custom_graph_optimizer_registry.cc:117] Plugin optimizer for device_type GPU is enabled.\n",
      "2024-10-16 18:39:37.255292: I tensorflow/core/framework/local_rendezvous.cc:421] Local rendezvous recv item cancelled. Key hash: 8536092556285174198\n",
      "2024-10-16 18:39:37.255311: I tensorflow/core/framework/local_rendezvous.cc:421] Local rendezvous recv item cancelled. Key hash: 673847468907914104\n",
      "2024-10-16 18:39:37.255316: I tensorflow/core/framework/local_rendezvous.cc:421] Local rendezvous recv item cancelled. Key hash: 10036925860258481506\n",
      "2024-10-16 18:39:37.255321: I tensorflow/core/framework/local_rendezvous.cc:421] Local rendezvous recv item cancelled. Key hash: 2088792219918125148\n",
      "2024-10-16 18:39:37.255327: I tensorflow/core/framework/local_rendezvous.cc:421] Local rendezvous recv item cancelled. Key hash: 34662923092682800\n",
      "2024-10-16 18:39:37.255331: I tensorflow/core/framework/local_rendezvous.cc:421] Local rendezvous recv item cancelled. Key hash: 6595419844526763890\n",
      "2024-10-16 18:39:37.255336: I tensorflow/core/framework/local_rendezvous.cc:421] Local rendezvous recv item cancelled. Key hash: 8093715096773644506\n",
      "2024-10-16 18:39:37.255340: I tensorflow/core/framework/local_rendezvous.cc:421] Local rendezvous recv item cancelled. Key hash: 16252871510415642926\n",
      "2024-10-16 18:39:37.255345: I tensorflow/core/framework/local_rendezvous.cc:421] Local rendezvous recv item cancelled. Key hash: 3456824651596773246\n",
      "2024-10-16 18:39:37.255350: I tensorflow/core/framework/local_rendezvous.cc:421] Local rendezvous recv item cancelled. Key hash: 8122305587541147975\n",
      "2024-10-16 18:39:37.255362: I tensorflow/core/framework/local_rendezvous.cc:421] Local rendezvous recv item cancelled. Key hash: 5146680067184476427\n",
      "2024-10-16 18:39:37.255368: I tensorflow/core/framework/local_rendezvous.cc:421] Local rendezvous recv item cancelled. Key hash: 14247230730207222143\n",
      "2024-10-16 18:39:37.255375: I tensorflow/core/framework/local_rendezvous.cc:421] Local rendezvous recv item cancelled. Key hash: 12057481749041816823\n",
      "2024-10-16 18:39:37.255381: I tensorflow/core/framework/local_rendezvous.cc:421] Local rendezvous recv item cancelled. Key hash: 2455332058765853707\n",
      "2024-10-16 18:39:37.255385: I tensorflow/core/framework/local_rendezvous.cc:421] Local rendezvous recv item cancelled. Key hash: 14728052048387049033\n",
      "2024-10-16 18:39:37.255391: I tensorflow/core/framework/local_rendezvous.cc:421] Local rendezvous recv item cancelled. Key hash: 9771837277902656893\n",
      "2024-10-16 18:39:37.255395: I tensorflow/core/framework/local_rendezvous.cc:421] Local rendezvous recv item cancelled. Key hash: 7026987464847427787\n",
      "2024-10-16 18:39:37.255399: I tensorflow/core/framework/local_rendezvous.cc:421] Local rendezvous recv item cancelled. Key hash: 16346881499943054033\n",
      "2024-10-16 18:39:37.255401: I tensorflow/core/framework/local_rendezvous.cc:421] Local rendezvous recv item cancelled. Key hash: 16119604526296422510\n",
      "2024-10-16 18:39:37.255415: I tensorflow/core/framework/local_rendezvous.cc:421] Local rendezvous recv item cancelled. Key hash: 17765367419695946056\n",
      "2024-10-16 18:39:37.255420: I tensorflow/core/framework/local_rendezvous.cc:421] Local rendezvous recv item cancelled. Key hash: 3129446593132657074\n",
      "2024-10-16 18:39:37.255425: I tensorflow/core/framework/local_rendezvous.cc:421] Local rendezvous recv item cancelled. Key hash: 4849991472608525778\n",
      "2024-10-16 18:39:37.255430: I tensorflow/core/framework/local_rendezvous.cc:421] Local rendezvous recv item cancelled. Key hash: 1728130182194675548\n",
      "2024-10-16 18:39:37.255434: I tensorflow/core/framework/local_rendezvous.cc:421] Local rendezvous recv item cancelled. Key hash: 2501783624486356917\n",
      "2024-10-16 18:39:37.255451: I tensorflow/core/framework/local_rendezvous.cc:421] Local rendezvous recv item cancelled. Key hash: 4188981327154158691\n",
      "2024-10-16 18:39:37.255463: I tensorflow/core/framework/local_rendezvous.cc:421] Local rendezvous recv item cancelled. Key hash: 10770156230606184193\n"
     ]
    }
   ],
   "source": [
    "alfabet_predictions = model.predict(test_molecules, verbose=False)"
   ]
  },
  {
   "cell_type": "code",
   "execution_count": 6,
   "metadata": {},
   "outputs": [
    {
     "data": {
      "text/html": [
       "<div>\n",
       "<style scoped>\n",
       "    .dataframe tbody tr th:only-of-type {\n",
       "        vertical-align: middle;\n",
       "    }\n",
       "\n",
       "    .dataframe tbody tr th {\n",
       "        vertical-align: top;\n",
       "    }\n",
       "\n",
       "    .dataframe thead th {\n",
       "        text-align: right;\n",
       "    }\n",
       "</style>\n",
       "<table border=\"1\" class=\"dataframe\">\n",
       "  <thead>\n",
       "    <tr style=\"text-align: right;\">\n",
       "      <th></th>\n",
       "      <th>molecule</th>\n",
       "      <th>bond_index</th>\n",
       "      <th>bond_type</th>\n",
       "      <th>fragment1</th>\n",
       "      <th>fragment2</th>\n",
       "      <th>is_valid_stereo</th>\n",
       "      <th>bde_pred</th>\n",
       "      <th>bdfe_pred</th>\n",
       "      <th>is_valid</th>\n",
       "      <th>bde</th>\n",
       "      <th>bdfe</th>\n",
       "      <th>set</th>\n",
       "    </tr>\n",
       "  </thead>\n",
       "  <tbody>\n",
       "    <tr>\n",
       "      <th>0</th>\n",
       "      <td>C#C/C(C)=C/CNCC</td>\n",
       "      <td>1</td>\n",
       "      <td>C-C</td>\n",
       "      <td>[C]#C</td>\n",
       "      <td>C[C]=CCNCC</td>\n",
       "      <td>False</td>\n",
       "      <td>134.833633</td>\n",
       "      <td>125.144165</td>\n",
       "      <td>True</td>\n",
       "      <td>NaN</td>\n",
       "      <td>NaN</td>\n",
       "      <td>NaN</td>\n",
       "    </tr>\n",
       "    <tr>\n",
       "      <th>1</th>\n",
       "      <td>C#C/C(C)=C/CNCC</td>\n",
       "      <td>2</td>\n",
       "      <td>C-C</td>\n",
       "      <td>C#C/[C]=C/CNCC</td>\n",
       "      <td>[CH3]</td>\n",
       "      <td>True</td>\n",
       "      <td>91.219055</td>\n",
       "      <td>76.888222</td>\n",
       "      <td>True</td>\n",
       "      <td>90.545156</td>\n",
       "      <td>76.548568</td>\n",
       "      <td>train</td>\n",
       "    </tr>\n",
       "    <tr>\n",
       "      <th>2</th>\n",
       "      <td>C#C/C(C)=C/CNCC</td>\n",
       "      <td>4</td>\n",
       "      <td>C-C</td>\n",
       "      <td>[CH2]NCC</td>\n",
       "      <td>[CH]=C(C)C#C</td>\n",
       "      <td>True</td>\n",
       "      <td>92.738388</td>\n",
       "      <td>79.602707</td>\n",
       "      <td>True</td>\n",
       "      <td>92.585188</td>\n",
       "      <td>79.312118</td>\n",
       "      <td>train</td>\n",
       "    </tr>\n",
       "    <tr>\n",
       "      <th>3</th>\n",
       "      <td>C#C/C(C)=C/CNCC</td>\n",
       "      <td>5</td>\n",
       "      <td>C-N</td>\n",
       "      <td>C#C/C(C)=C/[CH2]</td>\n",
       "      <td>CC[NH]</td>\n",
       "      <td>True</td>\n",
       "      <td>62.973671</td>\n",
       "      <td>49.733555</td>\n",
       "      <td>True</td>\n",
       "      <td>62.904012</td>\n",
       "      <td>50.027528</td>\n",
       "      <td>train</td>\n",
       "    </tr>\n",
       "    <tr>\n",
       "      <th>4</th>\n",
       "      <td>C#C/C(C)=C/CNCC</td>\n",
       "      <td>6</td>\n",
       "      <td>C-N</td>\n",
       "      <td>C#C/C(C)=C/C[NH]</td>\n",
       "      <td>[CH2]C</td>\n",
       "      <td>True</td>\n",
       "      <td>83.867477</td>\n",
       "      <td>69.303635</td>\n",
       "      <td>True</td>\n",
       "      <td>83.992707</td>\n",
       "      <td>69.312762</td>\n",
       "      <td>train</td>\n",
       "    </tr>\n",
       "  </tbody>\n",
       "</table>\n",
       "</div>"
      ],
      "text/plain": [
       "          molecule  bond_index bond_type         fragment1     fragment2  \\\n",
       "0  C#C/C(C)=C/CNCC           1       C-C             [C]#C    C[C]=CCNCC   \n",
       "1  C#C/C(C)=C/CNCC           2       C-C    C#C/[C]=C/CNCC         [CH3]   \n",
       "2  C#C/C(C)=C/CNCC           4       C-C          [CH2]NCC  [CH]=C(C)C#C   \n",
       "3  C#C/C(C)=C/CNCC           5       C-N  C#C/C(C)=C/[CH2]        CC[NH]   \n",
       "4  C#C/C(C)=C/CNCC           6       C-N  C#C/C(C)=C/C[NH]        [CH2]C   \n",
       "\n",
       "   is_valid_stereo    bde_pred   bdfe_pred  is_valid        bde       bdfe  \\\n",
       "0            False  134.833633  125.144165      True        NaN        NaN   \n",
       "1             True   91.219055   76.888222      True  90.545156  76.548568   \n",
       "2             True   92.738388   79.602707      True  92.585188  79.312118   \n",
       "3             True   62.973671   49.733555      True  62.904012  50.027528   \n",
       "4             True   83.867477   69.303635      True  83.992707  69.312762   \n",
       "\n",
       "     set  \n",
       "0    NaN  \n",
       "1  train  \n",
       "2  train  \n",
       "3  train  \n",
       "4  train  "
      ]
     },
     "execution_count": 6,
     "metadata": {},
     "output_type": "execute_result"
    }
   ],
   "source": [
    "alfabet_predictions.head()"
   ]
  }
 ],
 "metadata": {
  "kernelspec": {
   "display_name": "Python 3",
   "language": "python",
   "name": "python3"
  },
  "language_info": {
   "codemirror_mode": {
    "name": "ipython",
    "version": 3
   },
   "file_extension": ".py",
   "mimetype": "text/x-python",
   "name": "python",
   "nbconvert_exporter": "python",
   "pygments_lexer": "ipython3",
   "version": "3.11.10"
  }
 },
 "nbformat": 4,
 "nbformat_minor": 2
}
